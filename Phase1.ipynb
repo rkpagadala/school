{
 "cells": [
  {
   "cell_type": "code",
   "execution_count": 1,
   "id": "a88ae6ef",
   "metadata": {},
   "outputs": [],
   "source": [
    "import datetime\n",
    "from tkinter import *\n",
    "import tkinter.messagebox as mb\n",
    "from tkinter import ttk\n",
    "from tkcalendar import DateEntry\n",
    "from sqlalchemy import create_engine, Column, String, Integer, Date\n",
    "from sqlalchemy.ext.declarative import declarative_base\n",
    "from sqlalchemy.orm import sessionmaker"
   ]
  },
  {
   "cell_type": "code",
   "execution_count": 2,
   "id": "ea921df2",
   "metadata": {},
   "outputs": [],
   "source": [
    "# Creating the universal font variables\n",
    "headlabelfont = (\"Noto Sans CJK TC\", 15, 'bold')\n",
    "labelfont = ('Garamond', 14)\n",
    "entryfont = ('Garamond', 12)\n",
    "\n",
    "# Creating the SQLAlchemy engine and session\n",
    "engine = create_engine('sqlite:///SchoolManagement.db', echo=True)\n",
    "Base = declarative_base()\n",
    "Session = sessionmaker(bind=engine)\n",
    "session = Session()"
   ]
  },
  {
   "cell_type": "code",
   "execution_count": 3,
   "id": "294925a5",
   "metadata": {},
   "outputs": [
    {
     "name": "stdout",
     "output_type": "stream",
     "text": [
      "2023-07-03 21:28:58,075 INFO sqlalchemy.engine.Engine BEGIN (implicit)\n",
      "2023-07-03 21:28:58,077 INFO sqlalchemy.engine.Engine PRAGMA main.table_info(\"students\")\n",
      "2023-07-03 21:28:58,077 INFO sqlalchemy.engine.Engine [raw sql] ()\n",
      "2023-07-03 21:28:58,077 INFO sqlalchemy.engine.Engine PRAGMA temp.table_info(\"students\")\n",
      "2023-07-03 21:28:58,083 INFO sqlalchemy.engine.Engine [raw sql] ()\n",
      "2023-07-03 21:28:58,083 INFO sqlalchemy.engine.Engine \n",
      "CREATE TABLE students (\n",
      "\tid INTEGER NOT NULL, \n",
      "\tname VARCHAR, \n",
      "\temail VARCHAR, \n",
      "\tphone_no VARCHAR, \n",
      "\tgender VARCHAR, \n",
      "\tdob DATE, \n",
      "\tstream VARCHAR, \n",
      "\tPRIMARY KEY (id)\n",
      ")\n",
      "\n",
      "\n",
      "2023-07-03 21:28:58,086 INFO sqlalchemy.engine.Engine [no key 0.00146s] ()\n",
      "2023-07-03 21:28:58,095 INFO sqlalchemy.engine.Engine COMMIT\n"
     ]
    }
   ],
   "source": [
    "# Creating the Student model\n",
    "class Student(Base):\n",
    "    __tablename__ = 'students'\n",
    "    id = Column(Integer, primary_key=True, autoincrement=True)\n",
    "    name = Column(String)\n",
    "    email = Column(String)\n",
    "    phone_no = Column(String)\n",
    "    gender = Column(String)\n",
    "    dob = Column(Date)\n",
    "    stream = Column(String)\n",
    "\n",
    "\n",
    "Base.metadata.create_all(engine)"
   ]
  },
  {
   "cell_type": "code",
   "execution_count": 4,
   "id": "7230eb42",
   "metadata": {},
   "outputs": [],
   "source": [
    "# Creating the functions\n",
    "def reset_fields():\n",
    "    global name_strvar, email_strvar, contact_strvar, gender_strvar, dob, stream_strvar\n",
    "\n",
    "    for var in [name_strvar, email_strvar, contact_strvar, gender_strvar, stream_strvar]:\n",
    "        var.set('')\n",
    "    dob.set_date(datetime.datetime.now().date())\n",
    "\n",
    "\n",
    "def reset_form():\n",
    "    global tree\n",
    "    tree.delete(*tree.get_children())\n",
    "\n",
    "    reset_fields()"
   ]
  },
  {
   "cell_type": "code",
   "execution_count": 5,
   "id": "fed33164",
   "metadata": {},
   "outputs": [],
   "source": [
    "def display_records():\n",
    "    tree.delete(*tree.get_children())\n",
    "\n",
    "    records = session.query(Student).all()\n",
    "\n",
    "    for record in records:\n",
    "        tree.insert('', END, values=(\n",
    "            record.id, record.name, record.email, record.phone_no, record.gender, record.dob, record.stream))\n",
    "\n",
    "\n",
    "def add_record():\n",
    "    global name_strvar, email_strvar, contact_strvar, gender_strvar, dob, stream_strvar\n",
    "\n",
    "    name = name_strvar.get()\n",
    "    email = email_strvar.get()\n",
    "    contact = contact_strvar.get()\n",
    "    gender = gender_strvar.get()\n",
    "    dob_val = dob.get_date()\n",
    "    stream = stream_strvar.get()\n",
    "\n",
    "    if not name or not email or not contact or not gender or not dob_val or not stream:\n",
    "        mb.showerror('Error!', \"Please fill all the missing fields!!\")\n",
    "    else:\n",
    "        try:\n",
    "            student = Student(name=name, email=email, phone_no=contact, gender=gender, dob=dob_val, stream=stream)\n",
    "            session.add(student)\n",
    "            session.commit()\n",
    "            mb.showinfo('Record added', f\"Record of {name} was successfully added\")\n",
    "            reset_fields()\n",
    "            display_records()\n",
    "        except Exception as e:\n",
    "            mb.showerror('Error!', str(e))"
   ]
  },
  {
   "cell_type": "code",
   "execution_count": 6,
   "id": "178deb43",
   "metadata": {},
   "outputs": [],
   "source": [
    "def remove_record():\n",
    "    if not tree.selection():\n",
    "        mb.showerror('Error!', 'Please select an item from the database')\n",
    "    else:\n",
    "        current_item = tree.focus()\n",
    "        values = tree.item(current_item)\n",
    "        selection = values[\"values\"]\n",
    "\n",
    "        tree.delete(current_item)\n",
    "\n",
    "        student = session.query(Student).get(selection[0])\n",
    "        if student:\n",
    "            session.delete(student)\n",
    "            session.commit()\n",
    "            mb.showinfo('Done', 'The record you wanted deleted was successfully deleted.')\n",
    "        else:\n",
    "            mb.showerror('Error!', 'Failed to delete the record.')\n",
    "\n",
    "        display_records()"
   ]
  },
  {
   "cell_type": "code",
   "execution_count": 7,
   "id": "573b0a67",
   "metadata": {},
   "outputs": [],
   "source": [
    "def view_record():\n",
    "    global name_strvar, email_strvar, contact_strvar, gender_strvar, dob, stream_strvar\n",
    "\n",
    "    current_item = tree.focus()\n",
    "    values = tree.item(current_item)\n",
    "    selection = values[\"values\"]\n",
    "\n",
    "    name_strvar.set(selection[1])\n",
    "    email_strvar.set(selection[2])\n",
    "    contact_strvar.set(selection[3])\n",
    "    gender_strvar.set(selection[4])\n",
    "    dob.set_date(selection[5])\n",
    "    stream_strvar.set(selection[6])"
   ]
  },
  {
   "cell_type": "code",
   "execution_count": 8,
   "id": "1aa971cd",
   "metadata": {},
   "outputs": [],
   "source": [
    "def update_record():\n",
    "    if not tree.selection():\n",
    "        mb.showerror('Error!', 'Please select an item from the database')\n",
    "    else:\n",
    "        global name_strvar, email_strvar, contact_strvar, gender_strvar, dob, stream_strvar\n",
    "        current_item = tree.focus()\n",
    "        values = tree.item(current_item)\n",
    "        selection = values[\"values\"]\n",
    "\n",
    "        name = name_strvar.get()\n",
    "        email = email_strvar.get()\n",
    "        contact = contact_strvar.get()\n",
    "        gender = gender_strvar.get()\n",
    "        dob_val = dob.get_date()\n",
    "        stream = stream_strvar.get()\n",
    "\n",
    "        if not name or not email or not contact or not gender or not dob_val or not stream:\n",
    "            mb.showerror('Error!', \"Please fill all the missing fields!!\")\n",
    "        else:\n",
    "            try:\n",
    "                student = Student(id=selection[0], name=name, email=email, phone_no=contact, gender=gender,\n",
    "                                  dob=dob_val, stream=stream)\n",
    "                session.merge(student)\n",
    "                session.commit()\n",
    "                mb.showinfo('Record updated', f\"Record of {name} was successfully updated\")\n",
    "                reset_fields()\n",
    "                display_records()\n",
    "            except Exception as e:\n",
    "                mb.showerror('Error!', str(e))"
   ]
  },
  {
   "cell_type": "code",
   "execution_count": 9,
   "id": "762f4335",
   "metadata": {},
   "outputs": [
    {
     "data": {
      "text/plain": [
       "''"
      ]
     },
     "execution_count": 9,
     "metadata": {},
     "output_type": "execute_result"
    }
   ],
   "source": [
    "# Initializing the GUI window\n",
    "main = Tk()\n",
    "main.title('School Management System')\n",
    "main.geometry('1250x660')\n",
    "main.resizable(0, 0)"
   ]
  },
  {
   "cell_type": "code",
   "execution_count": 10,
   "id": "40342282",
   "metadata": {},
   "outputs": [],
   "source": [
    "# Creating the background and foreground color variables\n",
    "lf_bg = 'MediumSpringGreen'  # bg color for the left_frame\n",
    "cf_bg = 'PaleGreen'  # bg color for the center_frame"
   ]
  },
  {
   "cell_type": "code",
   "execution_count": 11,
   "id": "195d8f44",
   "metadata": {},
   "outputs": [],
   "source": [
    "# Creating the StringVar or IntVar variables\n",
    "name_strvar = StringVar()\n",
    "email_strvar = StringVar()\n",
    "contact_strvar = StringVar()\n",
    "gender_strvar = StringVar()\n",
    "stream_strvar = StringVar()"
   ]
  },
  {
   "cell_type": "code",
   "execution_count": 12,
   "id": "4c68a64f",
   "metadata": {},
   "outputs": [],
   "source": [
    "# Placing the components in the main window\n",
    "Label(main, text=\"SCHOOL MANAGEMENT SYSTEM\", font=headlabelfont, bg='SpringGreen').pack(side=TOP, fill=X)\n",
    "\n",
    "left_frame = Frame(main, bg=lf_bg)\n",
    "left_frame.place(x=0, y=30, relheight=1, relwidth=0.2)\n",
    "\n",
    "center_frame = Frame(main, bg=cf_bg)\n",
    "center_frame.place(relx=0.2, y=30, relheight=1, relwidth=0.2)\n",
    "\n",
    "right_frame = Frame(main, bg=\"Gray35\")\n",
    "right_frame.place(relx=0.4, y=30, relheight=1, relwidth=0.6)"
   ]
  },
  {
   "cell_type": "code",
   "execution_count": 13,
   "id": "4427149b",
   "metadata": {},
   "outputs": [],
   "source": [
    "# Placing components in the left frame\n",
    "Label(left_frame, text=\"Full Name\", font=headlabelfont, bg=lf_bg).place(relx=0.3, rely=0.05)\n",
    "Label(left_frame, text=\"Contact Number\", font=headlabelfont, bg=lf_bg).place(relx=0.175, rely=0.18)\n",
    "Label(left_frame, text=\"Email Address\", font=headlabelfont, bg=lf_bg).place(relx=0.2, rely=0.31)\n",
    "Label(left_frame, text=\"Gender\", font=headlabelfont, bg=lf_bg).place(relx=0.3, rely=0.44)\n",
    "Label(left_frame, text=\"Date of Birth\", font=headlabelfont, bg=lf_bg).place(relx=0.2, rely=0.57)\n",
    "Label(left_frame, text=\"Stream\", font=headlabelfont, bg=lf_bg).place(relx=0.3, rely=0.7)\n",
    "\n",
    "Entry(left_frame, width=19, textvariable=name_strvar, font=entryfont).place(x=20, rely=0.1)\n",
    "Entry(left_frame, width=19, textvariable=contact_strvar, font=entryfont).place(x=20, rely=0.23)\n",
    "Entry(left_frame, width=19, textvariable=email_strvar, font=entryfont).place(x=20, rely=0.36)\n",
    "Entry(left_frame, width=19, textvariable=stream_strvar, font=entryfont).place(x=20, rely=0.75)\n",
    "\n",
    "OptionMenu(left_frame, gender_strvar, 'Male', 'Female').place(x=45, rely=0.49, relwidth=0.5)\n",
    "\n",
    "dob = DateEntry(left_frame, font=('Arial', 12), width=15)\n",
    "dob.place(x=20, rely=0.62)\n",
    "\n",
    "Button(left_frame, text='Submit', font=headlabelfont, command=add_record, width=18, bg='#262D37', fg='LightCyan').place(relx=0.025, rely=0.85)\n"
   ]
  },
  {
   "cell_type": "code",
   "execution_count": 14,
   "id": "619540c8",
   "metadata": {},
   "outputs": [],
   "source": [
    "# Placing components in the center frame\n",
    "Button(center_frame, text='Delete Record', font=headlabelfont, command=remove_record, width=15, bg='black', fg='LightCyan').place(relx=0.1, rely=0.25)\n",
    "Button(center_frame, text='View Record', font=headlabelfont, command=view_record, width=15, bg='black', fg='LightCyan').place(relx=0.1, rely=0.35)\n",
    "Button(center_frame, text='Update', font=headlabelfont, command=update_record, width=15, bg='black', fg='LightCyan').place(relx=0.1, rely=0.45)\n",
    "Button(center_frame, text='Reset Fields', font=headlabelfont, command=reset_fields, width=15, bg='black', fg='LightCyan').place(relx=0.1, rely=0.55)\n",
    "Button(center_frame, text='Delete database', font=headlabelfont, command=reset_form, width=15, bg='Red', fg='LightCyan').place(relx=0.1, rely=0.65)"
   ]
  },
  {
   "cell_type": "code",
   "execution_count": 15,
   "id": "f36f17c2",
   "metadata": {},
   "outputs": [
    {
     "name": "stdout",
     "output_type": "stream",
     "text": [
      "2023-07-03 21:33:03,538 INFO sqlalchemy.engine.Engine BEGIN (implicit)\n",
      "2023-07-03 21:33:03,538 INFO sqlalchemy.engine.Engine SELECT students.id AS students_id, students.name AS students_name, students.email AS students_email, students.phone_no AS students_phone_no, students.gender AS students_gender, students.dob AS students_dob, students.stream AS students_stream \n",
      "FROM students\n",
      "2023-07-03 21:33:03,538 INFO sqlalchemy.engine.Engine [generated in 0.00119s] ()\n",
      "2023-07-03 21:34:01,491 INFO sqlalchemy.engine.Engine INSERT INTO students (name, email, phone_no, gender, dob, stream) VALUES (?, ?, ?, ?, ?, ?)\n",
      "2023-07-03 21:34:01,491 INFO sqlalchemy.engine.Engine [generated in 0.00204s] ('Rahul', 'ggu@xyz.com', '9898777888', 'Male', '2011-05-10', 'Maths')\n",
      "2023-07-03 21:34:01,498 INFO sqlalchemy.engine.Engine COMMIT\n",
      "2023-07-03 21:34:03,573 INFO sqlalchemy.engine.Engine BEGIN (implicit)\n",
      "2023-07-03 21:34:03,575 INFO sqlalchemy.engine.Engine SELECT students.id AS students_id, students.name AS students_name, students.email AS students_email, students.phone_no AS students_phone_no, students.gender AS students_gender, students.dob AS students_dob, students.stream AS students_stream \n",
      "FROM students\n",
      "2023-07-03 21:34:03,576 INFO sqlalchemy.engine.Engine [cached since 60.03s ago] ()\n",
      "2023-07-03 21:34:55,935 INFO sqlalchemy.engine.Engine INSERT INTO students (name, email, phone_no, gender, dob, stream) VALUES (?, ?, ?, ?, ?, ?)\n",
      "2023-07-03 21:34:55,935 INFO sqlalchemy.engine.Engine [cached since 54.44s ago] ('Raju', 'gjkhhoi', 'hjhgkjhk', 'Male', '2012-07-02', 'Science')\n",
      "2023-07-03 21:34:55,941 INFO sqlalchemy.engine.Engine COMMIT\n",
      "2023-07-03 21:34:58,445 INFO sqlalchemy.engine.Engine BEGIN (implicit)\n",
      "2023-07-03 21:34:58,446 INFO sqlalchemy.engine.Engine SELECT students.id AS students_id, students.name AS students_name, students.email AS students_email, students.phone_no AS students_phone_no, students.gender AS students_gender, students.dob AS students_dob, students.stream AS students_stream \n",
      "FROM students\n",
      "2023-07-03 21:34:58,446 INFO sqlalchemy.engine.Engine [cached since 114.9s ago] ()\n"
     ]
    },
    {
     "name": "stderr",
     "output_type": "stream",
     "text": [
      "Exception in Tkinter callback\n",
      "Traceback (most recent call last):\n",
      "  File \"C:\\Users\\kotar\\anaconda3\\lib\\tkinter\\__init__.py\", line 1892, in __call__\n",
      "    return self.func(*args)\n",
      "  File \"C:\\Users\\kotar\\AppData\\Local\\Temp\\ipykernel_1952\\2128377924.py\", line 8, in view_record\n",
      "    name_strvar.set(selection[1])\n",
      "IndexError: string index out of range\n"
     ]
    }
   ],
   "source": [
    "# Placing components in the right frame\n",
    "Label(right_frame, text='Students Records', font=headlabelfont, bg='DarkGreen', fg='LightCyan').pack(side=TOP, fill=X)\n",
    "\n",
    "tree = ttk.Treeview(right_frame, height=100, selectmode=BROWSE,\n",
    "                    columns=('Student ID', 'Name', 'Email Address', 'Contact Number', 'Gender', 'Date of Birth', 'Stream'))\n",
    "\n",
    "X_scroller = Scrollbar(tree, orient=HORIZONTAL, command=tree.xview)\n",
    "Y_scroller = Scrollbar(tree, orient=VERTICAL, command=tree.yview)\n",
    "\n",
    "X_scroller.pack(side=BOTTOM, fill=X)\n",
    "Y_scroller.pack(side=RIGHT, fill=Y)\n",
    "\n",
    "tree.config(yscrollcommand=Y_scroller.set, xscrollcommand=X_scroller.set)\n",
    "\n",
    "tree.heading('Student ID', text='ID', anchor=CENTER)\n",
    "tree.heading('Name', text='Name', anchor=CENTER)\n",
    "tree.heading('Email Address', text='Email ID', anchor=CENTER)\n",
    "tree.heading('Contact Number', text='Phone No', anchor=CENTER)\n",
    "tree.heading('Gender', text='Gender', anchor=CENTER)\n",
    "tree.heading('Date of Birth', text='DOB', anchor=CENTER)\n",
    "tree.heading('Stream', text='Stream', anchor=CENTER)\n",
    "\n",
    "tree.column('#0', width=0, stretch=NO)\n",
    "tree.column('#1', width=50, anchor=CENTER)\n",
    "tree.column('#2', width=150, anchor=CENTER)\n",
    "tree.column('#3', width=150, anchor=CENTER)\n",
    "tree.column('#4', width=150, anchor=CENTER)\n",
    "tree.column('#5', width=100, anchor=CENTER)\n",
    "tree.column('#6', width=100, anchor=CENTER)\n",
    "\n",
    "tree.pack(side=TOP, fill=BOTH, expand=True)\n",
    "\n",
    "display_records()\n",
    "\n",
    "main.mainloop()"
   ]
  },
  {
   "cell_type": "code",
   "execution_count": null,
   "id": "208a730c",
   "metadata": {},
   "outputs": [],
   "source": []
  }
 ],
 "metadata": {
  "kernelspec": {
   "display_name": "Python 3 (ipykernel)",
   "language": "python",
   "name": "python3"
  },
  "language_info": {
   "codemirror_mode": {
    "name": "ipython",
    "version": 3
   },
   "file_extension": ".py",
   "mimetype": "text/x-python",
   "name": "python",
   "nbconvert_exporter": "python",
   "pygments_lexer": "ipython3",
   "version": "3.9.13"
  }
 },
 "nbformat": 4,
 "nbformat_minor": 5
}
